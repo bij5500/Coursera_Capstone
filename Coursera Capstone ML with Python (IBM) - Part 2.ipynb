{
    "cells": [
        {
            "metadata": {
                "collapsed": true
            },
            "cell_type": "markdown",
            "source": "This is the code for the Capstone Project - Coursera (IBM ML With Python)"
        },
        {
            "metadata": {},
            "cell_type": "code",
            "source": "# start by importing the relevant libraries\nimport pandas as pd\nfrom  bs4 import BeautifulSoup as bs\nimport json\nimport requests\nfrom pandas.io.json import json_normalize\n",
            "execution_count": 1,
            "outputs": []
        },
        {
            "metadata": {},
            "cell_type": "markdown",
            "source": "Set the url and read the data from the website"
        },
        {
            "metadata": {},
            "cell_type": "code",
            "source": "# initialise and set the url variable from which data is to be scraped\n\nurl = 'https://en.wikipedia.org/wiki/List_of_postal_codes_of_Canada:_M'\ndata = requests.get('https://en.wikipedia.org/wiki/List_of_postal_codes_of_Canada:_M').text\ndata_list = bs(data, 'html.parser')",
            "execution_count": 2,
            "outputs": []
        },
        {
            "metadata": {},
            "cell_type": "markdown",
            "source": "Setup the dataframe "
        },
        {
            "metadata": {},
            "cell_type": "code",
            "source": "#setup the column headers in the Dataframe\ndf_list = pd.DataFrame (columns = ['Postcode', 'Borough','Neighbourhood'])\n\n# populate the dataframe\nfor row in data_list.find('table').find_all('tr'):\n    cells = row.find_all('td')\n    if(len(cells) > 0):\n        check_str = cells[1].text\n\n# ignore all lines that have Borough set to \"Not Assigned\"\n        if check_str.find (\"Not assigned\") == -1:\n            new_row = {'Postcode':cells[0].text, 'Borough':cells[1].text,'Neighbourhood':cells[2].text}\n            df_list = df_list.append(new_row, ignore_index=True)\n",
            "execution_count": 3,
            "outputs": []
        },
        {
            "metadata": {},
            "cell_type": "markdown",
            "source": "Remove the /n characters from the data elements"
        },
        {
            "metadata": {},
            "cell_type": "code",
            "source": "# replace the /n characters being appended\ndf_list = df_list.replace('\\n',' ', regex=True)\n",
            "execution_count": 4,
            "outputs": []
        },
        {
            "metadata": {},
            "cell_type": "markdown",
            "source": "print the dataframe shape as per instructions"
        },
        {
            "metadata": {},
            "cell_type": "code",
            "source": "print(df_list.shape)",
            "execution_count": 5,
            "outputs": [
                {
                    "output_type": "stream",
                    "text": "(103, 3)\n",
                    "name": "stdout"
                }
            ]
        },
        {
            "metadata": {},
            "cell_type": "markdown",
            "source": "Now find the longitude and latitude information.  For this I have used pgeocode rather than the CSV provided."
        },
        {
            "metadata": {},
            "cell_type": "code",
            "source": "# Look up longitude and latitude using the poscode.  Using pgeocodes for this converison\nnomi = pgeocode.Nominatim('ca')\npcodes = pd.DataFrame(columns= ['Postcode', 'Long','Lat'])\n\nfor index, row in df_list.iterrows():\n# initialize your variable to None\n    out = nomi.query_postal_code(row['Postcode'])\n    new_row = {'Postcode':row['Postcode'], 'Long':out[10], 'Lat':out[9]}\n    pcodes = pcodes.append(new_row, ignore_index=True)\n",
            "execution_count": null,
            "outputs": []
        },
        {
            "metadata": {},
            "cell_type": "markdown",
            "source": "Now that we have created a new dataframe containing the Postcode, Longitude and Latitude,  we need to merge this with the first dataframe and creat a new consolidated dataframe"
        },
        {
            "metadata": {},
            "cell_type": "code",
            "source": "#now merge the two dataframes\n\ndf_list_full = df_list.merge(pcodes, on='Postcode', how = 'left')\nprint (df_list_full.head())  #to confirm this action has been performed correctly\n",
            "execution_count": null,
            "outputs": []
        }
    ],
    "metadata": {
        "kernelspec": {
            "name": "python3",
            "display_name": "Python 3.6",
            "language": "python"
        },
        "language_info": {
            "name": "python",
            "version": "3.6.9",
            "mimetype": "text/x-python",
            "codemirror_mode": {
                "name": "ipython",
                "version": 3
            },
            "pygments_lexer": "ipython3",
            "nbconvert_exporter": "python",
            "file_extension": ".py"
        }
    },
    "nbformat": 4,
    "nbformat_minor": 1
}