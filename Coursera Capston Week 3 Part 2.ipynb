{
    "cells": [
        {
            "metadata": {
                "collapsed": true
            },
            "cell_type": "markdown",
            "source": "This is the code for the Capstone Project - Coursera (IBM ML With Python)"
        },
        {
            "metadata": {},
            "cell_type": "code",
            "source": "# start by importing the relevant libraries\nimport pandas as pd\nfrom  bs4 import BeautifulSoup as bs\nimport json\nimport requests\nfrom pandas.io.json import json_normalize\n",
            "execution_count": 2,
            "outputs": []
        },
        {
            "metadata": {},
            "cell_type": "markdown",
            "source": "Set the url and read the data from the website"
        },
        {
            "metadata": {},
            "cell_type": "code",
            "source": "# initialise and set the url variable from which data is to be scraped\n\nurl = 'https://en.wikipedia.org/wiki/List_of_postal_codes_of_Canada:_M'\ndata = requests.get('https://en.wikipedia.org/wiki/List_of_postal_codes_of_Canada:_M').text\ndata_list = bs(data, 'html.parser')",
            "execution_count": 3,
            "outputs": []
        },
        {
            "metadata": {},
            "cell_type": "markdown",
            "source": "Setup the dataframe "
        },
        {
            "metadata": {},
            "cell_type": "code",
            "source": "#setup the column headers in the Dataframe\ndf_list = pd.DataFrame (columns = ['Postcode', 'Borough','Neighbourhood'])\n\n# populate the dataframe\nfor row in data_list.find('table').find_all('tr'):\n    cells = row.find_all('td')\n    if(len(cells) > 0):\n        check_str = cells[1].text\n\n# ignore all lines that have Borough set to \"Not Assigned\"\n        if check_str.find (\"Not assigned\") == -1:\n            new_row = {'Postcode':cells[0].text, 'Borough':cells[1].text,'Neighbourhood':cells[2].text}\n            df_list = df_list.append(new_row, ignore_index=True)\n",
            "execution_count": 4,
            "outputs": []
        },
        {
            "metadata": {},
            "cell_type": "markdown",
            "source": "Remove the /n characters from the data elements"
        },
        {
            "metadata": {},
            "cell_type": "code",
            "source": "# replace the /n characters being appended\ndf_list = df_list.replace('\\n',' ', regex=True)\n",
            "execution_count": 5,
            "outputs": []
        },
        {
            "metadata": {},
            "cell_type": "markdown",
            "source": "print the dataframe shape as per instructions"
        },
        {
            "metadata": {},
            "cell_type": "code",
            "source": "print(df_list.shape)",
            "execution_count": 6,
            "outputs": [
                {
                    "output_type": "stream",
                    "text": "(103, 3)\n",
                    "name": "stdout"
                }
            ]
        },
        {
            "metadata": {},
            "cell_type": "markdown",
            "source": "Before we start converting the post codes into latitude and longitude,  must install and import package"
        },
        {
            "metadata": {},
            "cell_type": "code",
            "source": "!pip install pgeocode\nimport pgeocode",
            "execution_count": 7,
            "outputs": [
                {
                    "output_type": "stream",
                    "text": "Requirement already satisfied: pgeocode in /opt/conda/envs/Python36/lib/python3.6/site-packages (0.2.1)\nRequirement already satisfied: requests in /opt/conda/envs/Python36/lib/python3.6/site-packages (from pgeocode) (2.21.0)\nRequirement already satisfied: pandas in /opt/conda/envs/Python36/lib/python3.6/site-packages (from pgeocode) (0.24.1)\nRequirement already satisfied: numpy in /opt/conda/envs/Python36/lib/python3.6/site-packages (from pgeocode) (1.15.4)\nRequirement already satisfied: chardet<3.1.0,>=3.0.2 in /opt/conda/envs/Python36/lib/python3.6/site-packages (from requests->pgeocode) (3.0.4)\nRequirement already satisfied: idna<2.9,>=2.5 in /opt/conda/envs/Python36/lib/python3.6/site-packages (from requests->pgeocode) (2.8)\nRequirement already satisfied: urllib3<1.25,>=1.21.1 in /opt/conda/envs/Python36/lib/python3.6/site-packages (from requests->pgeocode) (1.24.1)\nRequirement already satisfied: certifi>=2017.4.17 in /opt/conda/envs/Python36/lib/python3.6/site-packages (from requests->pgeocode) (2020.6.20)\nRequirement already satisfied: python-dateutil>=2.5.0 in /opt/conda/envs/Python36/lib/python3.6/site-packages (from pandas->pgeocode) (2.7.5)\nRequirement already satisfied: pytz>=2011k in /opt/conda/envs/Python36/lib/python3.6/site-packages (from pandas->pgeocode) (2018.9)\nRequirement already satisfied: six>=1.5 in /opt/conda/envs/Python36/lib/python3.6/site-packages (from python-dateutil>=2.5.0->pandas->pgeocode) (1.12.0)\n",
                    "name": "stdout"
                }
            ]
        },
        {
            "metadata": {},
            "cell_type": "code",
            "source": "# Look up longitude and latitude using the poscode.  Using pgeocodes for this converison\nnomi = pgeocode.Nominatim('ca')\npcodes = pd.DataFrame(columns= ['Postcode', 'Long','Lat'])\n\nfor index, row in df_list.iterrows():\n# initialize your variable to None\n    out = nomi.query_postal_code(row['Postcode'])\n    new_row = {'Postcode':row['Postcode'], 'Long':out[10], 'Lat':out[9]}\n    pcodes = pcodes.append(new_row, ignore_index=True)\n    output = str(row['Postcode'])+\",\"+ str(out[9]) +\",\"+ str(out[10]) + \"\\r\"\n",
            "execution_count": 8,
            "outputs": []
        },
        {
            "metadata": {},
            "cell_type": "code",
            "source": "#now merge the two dataframes\n\ndf_list_full = df_list.merge(pcodes, on='Postcode', how = 'left')\n\n# print header to confirm that the data is updated correctly\nprint (df_list_full.head())\n",
            "execution_count": 9,
            "outputs": [
                {
                    "output_type": "stream",
                    "text": "  Postcode            Borough                                 Neighbourhood  \\\n0     M3A         North York                                     Parkwoods    \n1     M4A         North York                              Victoria Village    \n2     M5A   Downtown Toronto                     Regent Park, Harbourfront    \n3     M6A         North York              Lawrence Manor, Lawrence Heights    \n4     M7A   Downtown Toronto   Queen's Park, Ontario Provincial Government    \n\n      Long      Lat  \n0 -79.3300  43.7545  \n1 -79.3148  43.7276  \n2 -79.3626  43.6555  \n3 -79.4504  43.7223  \n4 -79.3889  43.6641  \n",
                    "name": "stdout"
                }
            ]
        }
    ],
    "metadata": {
        "kernelspec": {
            "name": "python3",
            "display_name": "Python 3.6",
            "language": "python"
        },
        "language_info": {
            "name": "python",
            "version": "3.6.9",
            "mimetype": "text/x-python",
            "codemirror_mode": {
                "name": "ipython",
                "version": 3
            },
            "pygments_lexer": "ipython3",
            "nbconvert_exporter": "python",
            "file_extension": ".py"
        }
    },
    "nbformat": 4,
    "nbformat_minor": 1
}