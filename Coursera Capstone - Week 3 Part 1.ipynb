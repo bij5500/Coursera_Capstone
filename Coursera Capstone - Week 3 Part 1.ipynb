{
    "cells": [
        {
            "metadata": {
                "collapsed": true
            },
            "cell_type": "markdown",
            "source": "This is the code for the Capstone Project - Coursera (IBM ML With Python)"
        },
        {
            "metadata": {},
            "cell_type": "code",
            "source": "# start by importing the relevant libraries\nimport pandas as pd\nfrom  bs4 import BeautifulSoup as bs\nimport json\nimport requests\nfrom pandas.io.json import json_normalize\n",
            "execution_count": 1,
            "outputs": []
        },
        {
            "metadata": {},
            "cell_type": "markdown",
            "source": "Set the url and read the data from the website"
        },
        {
            "metadata": {},
            "cell_type": "code",
            "source": "# initialise and set the url variable from which data is to be scraped\n\nurl = 'https://en.wikipedia.org/wiki/List_of_postal_codes_of_Canada:_M'\ndata = requests.get('https://en.wikipedia.org/wiki/List_of_postal_codes_of_Canada:_M').text\ndata_list = bs(data, 'html.parser')",
            "execution_count": 2,
            "outputs": []
        },
        {
            "metadata": {},
            "cell_type": "markdown",
            "source": "Setup the dataframe "
        },
        {
            "metadata": {},
            "cell_type": "code",
            "source": "#setup the column headers in the Dataframe\ndf_list = pd.DataFrame (columns = ['Postcode', 'Borough','Neighbourhood'])\n\n# populate the dataframe\nfor row in data_list.find('table').find_all('tr'):\n    cells = row.find_all('td')\n    if(len(cells) > 0):\n        check_str = cells[1].text\n\n# ignore all lines that have Borough set to \"Not Assigned\"\n        if check_str.find (\"Not assigned\") == -1:\n            new_row = {'Postcode':cells[0].text, 'Borough':cells[1].text,'Neighbourhood':cells[2].text}\n            df_list = df_list.append(new_row, ignore_index=True)\n",
            "execution_count": 3,
            "outputs": []
        },
        {
            "metadata": {},
            "cell_type": "markdown",
            "source": "Remove the /n characters from the data elements"
        },
        {
            "metadata": {},
            "cell_type": "code",
            "source": "# replace the /n characters being appended\ndf_list = df_list.replace('\\n',' ', regex=True)\n",
            "execution_count": 4,
            "outputs": []
        },
        {
            "metadata": {},
            "cell_type": "markdown",
            "source": "print the dataframe shape as per instructions"
        },
        {
            "metadata": {},
            "cell_type": "code",
            "source": "print(df_list.shape)",
            "execution_count": 5,
            "outputs": [
                {
                    "output_type": "stream",
                    "text": "(103, 3)\n",
                    "name": "stdout"
                }
            ]
        },
        {
            "metadata": {},
            "cell_type": "markdown",
            "source": "Now print the dataframe header"
        },
        {
            "metadata": {},
            "cell_type": "code",
            "source": "df_list.head()",
            "execution_count": 6,
            "outputs": [
                {
                    "output_type": "execute_result",
                    "execution_count": 6,
                    "data": {
                        "text/plain": "  Postcode            Borough                                 Neighbourhood\n0     M3A         North York                                     Parkwoods \n1     M4A         North York                              Victoria Village \n2     M5A   Downtown Toronto                     Regent Park, Harbourfront \n3     M6A         North York              Lawrence Manor, Lawrence Heights \n4     M7A   Downtown Toronto   Queen's Park, Ontario Provincial Government ",
                        "text/html": "<div>\n<style scoped>\n    .dataframe tbody tr th:only-of-type {\n        vertical-align: middle;\n    }\n\n    .dataframe tbody tr th {\n        vertical-align: top;\n    }\n\n    .dataframe thead th {\n        text-align: right;\n    }\n</style>\n<table border=\"1\" class=\"dataframe\">\n  <thead>\n    <tr style=\"text-align: right;\">\n      <th></th>\n      <th>Postcode</th>\n      <th>Borough</th>\n      <th>Neighbourhood</th>\n    </tr>\n  </thead>\n  <tbody>\n    <tr>\n      <th>0</th>\n      <td>M3A</td>\n      <td>North York</td>\n      <td>Parkwoods</td>\n    </tr>\n    <tr>\n      <th>1</th>\n      <td>M4A</td>\n      <td>North York</td>\n      <td>Victoria Village</td>\n    </tr>\n    <tr>\n      <th>2</th>\n      <td>M5A</td>\n      <td>Downtown Toronto</td>\n      <td>Regent Park, Harbourfront</td>\n    </tr>\n    <tr>\n      <th>3</th>\n      <td>M6A</td>\n      <td>North York</td>\n      <td>Lawrence Manor, Lawrence Heights</td>\n    </tr>\n    <tr>\n      <th>4</th>\n      <td>M7A</td>\n      <td>Downtown Toronto</td>\n      <td>Queen's Park, Ontario Provincial Government</td>\n    </tr>\n  </tbody>\n</table>\n</div>"
                    },
                    "metadata": {}
                }
            ]
        }
    ],
    "metadata": {
        "kernelspec": {
            "name": "python3",
            "display_name": "Python 3.6",
            "language": "python"
        },
        "language_info": {
            "name": "python",
            "version": "3.6.9",
            "mimetype": "text/x-python",
            "codemirror_mode": {
                "name": "ipython",
                "version": 3
            },
            "pygments_lexer": "ipython3",
            "nbconvert_exporter": "python",
            "file_extension": ".py"
        }
    },
    "nbformat": 4,
    "nbformat_minor": 1
}